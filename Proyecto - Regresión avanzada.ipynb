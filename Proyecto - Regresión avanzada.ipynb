{
 "cells": [
  {
   "cell_type": "markdown",
   "metadata": {},
   "source": [
    "## Proyecto en Grupo – Regresión Avanzada<br>*Predicción de Precios de Bienes Raíces en Australia*"
   ]
  },
  {
   "cell_type": "markdown",
   "metadata": {},
   "source": [
    "---\n",
    "**Integrantes:**\n",
    "- Carlos Andrés Pérez Guzmán"
   ]
  },
  {
   "cell_type": "markdown",
   "metadata": {},
   "source": [
    "## Índice\n",
    "\n",
    "\n",
    "- [Índice](#índice)\n",
    "- [Introducción](#introducción)\n",
    "  - [Métodos Utilizados](#métodos-utilizados)\n",
    "  - [Tecnologías](#tecnologías)\n",
    "- [Descarga y Configuración](#descarga-y-configuración)\n",
    "  - [Requisitos Previos](#requisitos-previos)\n",
    "  - [Cómo Ejecutar](#cómo-ejecutar)\n",
    "- [Declaración del Problema](#declaración-del-problema)\n",
    "  - [Objetivo Comercial](#objetivo-comercial)\n",
    "  - [Preparación de Datos:](#preparación-de-datos)\n",
    "  - [Construcción y Evaluación del Modelo](#construcción-y-evaluación-del-modelo)\n",
    "  - [Conclusiones](#conclusiones)\n",
    "    - [Regresión Ridge](#regresión-ridge)\n",
    "    - [Regresión Lasso](#regresión-lasso)\n",
    "    - [Regresión ElasticNet](#regresión-lasso)\n",
    "    - [Las Variables Más Significativas Son:](#las-variables-más-significativas-son)\n"
   ]
  },
  {
   "cell_type": "markdown",
   "metadata": {},
   "source": [
    "### Introducción\n",
    "\n",
    "\n",
    "...\n",
    "\n",
    "\n",
    "#### Métodos Utilizados\n",
    "...\n",
    "\n",
    "\n",
    "#### Tecnologías\n",
    "* Python\n",
    "* Pandas\n",
    "...\n",
    "\n",
    "\n",
    "### Descarga y Configuración\n",
    "#### Requisitos Previos\n",
    "\n",
    "Este proyecto necesita que Anaconda esté instalado en la computadora.\n",
    "\n",
    "\n",
    "Para más detalles sobre la instalación, visite: https://docs.anaconda.com/anaconda/install/index.html\n",
    "\n",
    "\n",
    "#### Cómo Ejecutar\n",
    "\n",
    "\n",
    "Puede descargar el código fuente clonando este repositorio usando Git:\n",
    "\n",
    "\n",
    "1. Abra su aplicación Terminal favorita (Unix, Linux o Macos), como Terminal, Comando, Consola, iTerm2, etc.\n",
    "\n",
    "\n",
    "2. Clone el repositorio\n",
    "\n",
    "\n",
    "```\n",
    "git clone <GITHUB_REPO_URL>\n",
    "```\n",
    "\n",
    "\n",
    "3. Abra el archivo notebook ** *.ipynb** en Anaconda.\n",
    "\n",
    "\n",
    "```\n",
    "jupyter notebook <FILE.ipynb\n",
    "```\n",
    "\n",
    "\n",
    "\n",
    "\n",
    "### Declaración del Problema\n",
    "\n",
    "\n",
    "...\n",
    "\n",
    "\n",
    "#### Objetivo Comercial\n",
    "\n",
    "\n",
    "...\n",
    "\n",
    "\n",
    "---\n",
    "\n"
   ]
  },
  {
   "cell_type": "markdown",
   "metadata": {},
   "source": [
    "### **Preparación de Datos**\n"
   ]
  },
  {
   "cell_type": "markdown",
   "metadata": {},
   "source": [
    "#### 1. Limpieza de Datos y Análisis de Datos Faltantes."
   ]
  },
  {
   "cell_type": "code",
   "execution_count": null,
   "metadata": {},
   "outputs": [],
   "source": []
  },
  {
   "cell_type": "markdown",
   "metadata": {},
   "source": [
    "#### 2. Análisis y Tratamiento de Valores Atípicos.\n"
   ]
  },
  {
   "cell_type": "markdown",
   "metadata": {},
   "source": [
    "#### 3. Derivación de Columnas Categóricas.\n"
   ]
  },
  {
   "cell_type": "markdown",
   "metadata": {},
   "source": [
    "#### 4. Análisis Univariable.\n"
   ]
  },
  {
   "cell_type": "markdown",
   "metadata": {},
   "source": [
    "#### 5. Análisis Bivariable.\n"
   ]
  },
  {
   "cell_type": "markdown",
   "metadata": {},
   "source": [
    "#### 6. Análisis Multivariable.\n"
   ]
  }
 ],
 "metadata": {
  "kernelspec": {
   "display_name": "ds_env",
   "language": "python",
   "name": "python3"
  },
  "language_info": {
   "name": "python",
   "version": "3.12.7"
  }
 },
 "nbformat": 4,
 "nbformat_minor": 2
}
